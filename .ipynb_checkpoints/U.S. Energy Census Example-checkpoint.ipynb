{
 "cells": [
  {
   "cell_type": "markdown",
   "metadata": {},
   "source": [
    "# Example 1: Energy Census and Economic Data in U.S. 2010-2014\n",
    "\n",
    "In this example we will be exploring a dataset provided by data.gov and kaggle.com about energy and economic data in the U.S. The data and some accompanying information can be found on kaggle here:\n",
    "\n",
    "https://www.kaggle.com/lislejoem/us_energy_census_gdp_10-14\n",
    "\n",
    "\n",
    "## Data Exploration with Pandas\n",
    "\n",
    "As an introduction to data science in Python, the following walks through an exploration of this dataset using some of the most commonly applied functionality. As an avid user of R also, I like the idea of porting the \"5 verbs of dplyr\" to Python (via pandas):\n",
    "\n",
    "* arrange: sort or order a data frame\n",
    "* select: subset your dataset down to particular columns/variables of interest\n",
    "* filter: subset your dataset down to particular rows/observations of interest\n",
    "* mutate: create and append new variables/columns to your dataset\n",
    "* summarize: compute aggregations, statistics, or other summaries of the data\n",
    "\n",
    "with the obligatory inclusion of being able to \"group by.\" Besides the parallel with dplyr functionality in R, these operations also constitute the core of most SQL queries. So, to say they are foundational is still probably an understatement!\n",
    "\n",
    "So, let's dive right in!\n",
    "\n",
    "### Reading the Data In"
   ]
  },
  {
   "cell_type": "code",
   "execution_count": null,
   "metadata": {
    "scrolled": false
   },
   "outputs": [],
   "source": [
    "import pandas as pd\n",
    "import numpy as np\n",
    "\n",
    "energy = pd.read_csv(\"Energy Census and Economic Data US 2010-2014.csv\")\n",
    "energy.head()"
   ]
  },
  {
   "cell_type": "markdown",
   "metadata": {},
   "source": [
    "### Arranging the Data\n",
    "\n",
    "As you may have observed in the first few rows above, the data appear to be sorted by StateCodes. However, it may be interesting to sort by a few of the other variables to get a quick, rough sense of some of the rankings."
   ]
  },
  {
   "cell_type": "code",
   "execution_count": null,
   "metadata": {
    "scrolled": false
   },
   "outputs": [],
   "source": [
    "energy.sort_values(by = \"TotalC2010\")\n",
    "\n",
    "# energy.sort_values(by = \"TotalC2010\", ascending = False)\n",
    "\n",
    "# energy.sort_values(by = [\"Region\", \"TotalC2010\"], ascending = False)\n",
    "\n",
    "# energy.sort_values(by = [\"Region\", \"TotalC2010\"], ascending = [True, False])\n",
    "\n",
    "# energy.sort_values(by = [\"Region\", \"TotalC2010\"], ascending = [True, False]).head(10)"
   ]
  },
  {
   "cell_type": "markdown",
   "metadata": {},
   "source": [
    "As you can see it's relatively easy to rearrange a pandas data frame according to variables within. Notice, also, that this simple exploration revealed a row in the dataset corresponding to totals for the entire U.S. If our exploration is going to focus on the individual states and comparing them, then we might want to remove this row later.\n",
    "\n",
    "### Selecting Particular Columns/Variables\n",
    "\n",
    "We have a great deal of variables in this dataset! To streamline our investigation and ease our visual inspection of particular characteristics of the data it is often useful to look at certain subsets of variables as opposed to the entirety of the data.\n",
    "\n",
    "To make sure we continue to get practice with previous ideas and build on our data science knowledge in Python, let's arrange and select!"
   ]
  },
  {
   "cell_type": "code",
   "execution_count": null,
   "metadata": {
    "scrolled": false
   },
   "outputs": [],
   "source": [
    "energy.sort_values(by = \"RBIRTH2011\", ascending = False)[[\"State\", \"Coast\", \"RBIRTH2011\"]]\n",
    "\n",
    "# energy.sort_values(by = \"RBIRTH2011\", ascending = False)[[\"State\", \"Coast\", \"RBIRTH2011\"]].head()\n",
    "\n",
    "# energy.sort_values(by = \"RBIRTH2011\", ascending = False).loc[:, [\"State\", \"Coast\", \"RBIRTH2011\"]].head()"
   ]
  },
  {
   "cell_type": "markdown",
   "metadata": {},
   "source": [
    "And the order of operations should not affect the result as we're just arranging and subsetting columns..."
   ]
  },
  {
   "cell_type": "code",
   "execution_count": null,
   "metadata": {
    "scrolled": false
   },
   "outputs": [],
   "source": [
    "energy[[\"State\", \"Coast\", \"RBIRTH2011\"]].sort_values(by = \"RBIRTH2011\", ascending = False).head()"
   ]
  },
  {
   "cell_type": "markdown",
   "metadata": {},
   "source": [
    "So, we can see here that Utah had the highest birth rate in 2011, followed by Alaska and D.C.\n",
    "\n",
    "### Filtering the Data\n",
    "\n",
    "Despite the difference in terms, \"select\" and \"filter\" are really just different forms of subsetting the data. The former for subsetting columns/variables, and the latter for subsetting rows/observations. Again, let's continue to build upon what we've seen..."
   ]
  },
  {
   "cell_type": "code",
   "execution_count": null,
   "metadata": {
    "scrolled": false
   },
   "outputs": [],
   "source": [
    "energy.loc[1:10, [\"State\", \"Coast\", \"TotalPrice2013\"]].sort_values(by = \"TotalPrice2013\", ascending = False)\n",
    "\n",
    "# energy = energy.loc[energy[\"StateCodes\"] != \"US\"]\n",
    "# energy"
   ]
  },
  {
   "cell_type": "code",
   "execution_count": null,
   "metadata": {
    "scrolled": false
   },
   "outputs": [],
   "source": [
    "energy.loc[energy[\"Coast\"] == 1.0, [\"State\", \"TotalPrice2013\"]].sort_values(by = \"TotalPrice2013\", ascending = False)"
   ]
  },
  {
   "cell_type": "code",
   "execution_count": null,
   "metadata": {
    "scrolled": false
   },
   "outputs": [],
   "source": [
    "energy.loc[(energy[\"Coast\"] == 1.0) | (energy[\"Great Lakes\"] == 1.0), [\"State\", \"TotalPrice2013\"]].sort_values(by = \"TotalPrice2013\", ascending = False)"
   ]
  },
  {
   "cell_type": "markdown",
   "metadata": {},
   "source": [
    "Why did we need to use | instead of \"or\" in the code in the previous cell?"
   ]
  },
  {
   "cell_type": "markdown",
   "metadata": {},
   "source": [
    "### Mutate\n",
    "\n",
    "Creating new variables or revising existing ones is also a common practice in order to augment and enhance a dataset. Let's create a few new variables/columns in our dataset!"
   ]
  },
  {
   "cell_type": "code",
   "execution_count": null,
   "metadata": {
    "scrolled": false
   },
   "outputs": [],
   "source": [
    "energy[\"Water\"] = energy[\"Coast\"].radd(energy[\"Great Lakes\"]).div(2).apply(np.ceil)\n",
    "energy[[\"State\",\"Water\"]]\n",
    "# energy.loc[energy[\"Water\"] == 1, [\"State\", \"Water\", \"Coast\", \"Great Lakes\"]]\n",
    "\n",
    "# energy[\"Pop10k\"] = energy[\"CENSUS2010POP\"]/10000\n",
    "# energy[[\"State\", \"CENSUS2010POP\", \"Pop10k\"]].head(10)"
   ]
  },
  {
   "cell_type": "markdown",
   "metadata": {},
   "source": [
    "### Summarizing and Grouping\n",
    "\n",
    "We finally get to some excitement! Oh, who am I kidding...we're all here probably because the above sections excite us as much as this one. So, now we want to compute some summary statistics or aggregations.\n",
    "\n",
    "We'll start with some overall summaries and then move statistics by groups."
   ]
  },
  {
   "cell_type": "code",
   "execution_count": null,
   "metadata": {
    "scrolled": false
   },
   "outputs": [],
   "source": [
    "# energy[\"Water\"].mean()\n",
    "# energy[\"Water\"].var()\n",
    "# energy[\"TotalC2010\"].median()\n",
    "\n",
    "# def mymean(x):\n",
    "#     return np.mean(x)/2\n",
    "\n",
    "# mymean(energy[\"Water\"])\n",
    "\n",
    "\n",
    "energy.groupby(\"Water\")[[\"TotalC2010\", \"TotalPrice2013\"]].mean()\n",
    "\n",
    "energy.groupby([\"Division\", \"Water\"])[[\"TotalC2010\", \"TotalPrice2013\"]].mean()"
   ]
  },
  {
   "cell_type": "markdown",
   "metadata": {},
   "source": [
    "## Conclusion\n",
    "\n",
    "This concludes this example where we explored some of the primary verbs/operations when working with data. In Example 2 we'll look at joining the above dataset with another and then creating some basic visualizations.\n",
    "\n",
    "### Resources\n",
    "\n",
    "The pandas documentation is wonderful and can be found here:\n",
    "\n",
    "https://pandas.pydata.org/pandas-docs/stable/index.html\n",
    "\n",
    "I also highly recommend Python for Data Analysis by Wes McKinney:\n",
    "\n",
    "https://wesmckinney.com/pages/book.html\n",
    "\n",
    "The internet is, of course, full of other resources and searching will get you very far!"
   ]
  }
 ],
 "metadata": {
  "kernelspec": {
   "display_name": "Python 3",
   "language": "python",
   "name": "python3"
  },
  "language_info": {
   "codemirror_mode": {
    "name": "ipython",
    "version": 3
   },
   "file_extension": ".py",
   "mimetype": "text/x-python",
   "name": "python",
   "nbconvert_exporter": "python",
   "pygments_lexer": "ipython3",
   "version": "3.7.4"
  }
 },
 "nbformat": 4,
 "nbformat_minor": 2
}
